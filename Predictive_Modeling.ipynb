{
  "nbformat": 4,
  "nbformat_minor": 0,
  "metadata": {
    "colab": {
      "provenance": []
    },
    "kernelspec": {
      "name": "python3",
      "display_name": "Python 3"
    },
    "language_info": {
      "name": "python"
    }
  },
  "cells": [
    {
      "cell_type": "code",
      "source": [
        "import pandas as pd\n",
        "import numpy as np\n",
        "from sklearn.model_selection import train_test_split\n",
        "from sklearn.preprocessing import StandardScaler\n",
        "from sklearn.metrics import accuracy_score, classification_report, confusion_matrix, ConfusionMatrixDisplay\n",
        "from sklearn.linear_model import LogisticRegression\n",
        "import matplotlib.pyplot as plt\n",
        "import warnings\n",
        "warnings.filterwarnings(\"ignore\", category=UserWarning, module='sklearn')\n",
        "\n",
        "url = \"https://raw.githubusercontent.com/jbrownlee/Datasets/master/pima-indians-diabetes.data.csv\"\n",
        "column_names = ['Pregnancies', 'Glucose', 'BloodPressure', 'SkinThickness', 'Insulin', 'BMI', 'DiabetesPedigreeFunction', 'Age', 'Outcome']\n",
        "df = pd.read_csv(url, names=column_names)\n",
        "\n",
        "X = df.drop('Outcome', axis=1)\n",
        "y = df['Outcome']\n",
        "\n",
        "X_train, X_test, y_train, y_test = train_test_split(X, y, test_size=0.2, random_state=42)\n",
        "\n",
        "scaler = StandardScaler()\n",
        "X_train = scaler.fit_transform(X_train)\n",
        "X_test = scaler.transform(X_test)\n",
        "\n",
        "model = LogisticRegression()\n",
        "model.fit(X_train, y_train)\n",
        "\n",
        "y_pred = model.predict(X_test)\n",
        "\n",
        "print(\"\\nModel Evaluation:\")\n",
        "print(\"Accuracy:\", accuracy_score(y_test, y_pred))\n",
        "print(\"\\nClassification Report:\")\n",
        "print(classification_report(y_test, y_pred))\n",
        "\n",
        "cm = confusion_matrix(y_test, y_pred)\n",
        "disp = ConfusionMatrixDisplay(confusion_matrix=cm)\n",
        "disp.plot(cmap='Blues')\n",
        "plt.show()\n",
        "\n",
        "def get_user_input():\n",
        "    print(\"\\nPlease enter the patient's data for prediction:\")\n",
        "\n",
        "    Pregnancies = float(input(\"Enter number of Pregnancies: \"))\n",
        "    Glucose = float(input(\"Enter Glucose level: \"))\n",
        "    BloodPressure = float(input(\"Enter Blood Pressure: \"))\n",
        "    SkinThickness = float(input(\"Enter Skin Thickness: \"))\n",
        "    Insulin = float(input(\"Enter Insulin level: \"))\n",
        "    BMI = float(input(\"Enter BMI: \"))\n",
        "    DiabetesPedigreeFunction = float(input(\"Enter Diabetes Pedigree Function: \"))\n",
        "    Age = float(input(\"Enter Age: \"))\n",
        "\n",
        "    new_patient_data = np.array([[Pregnancies, Glucose, BloodPressure, SkinThickness, Insulin, BMI, DiabetesPedigreeFunction, Age]])\n",
        "\n",
        "    return new_patient_data\n",
        "\n",
        "new_patient_data = get_user_input()\n",
        "\n",
        "new_patient_data_scaled = scaler.transform(new_patient_data)\n",
        "\n",
        "new_prediction = model.predict(new_patient_data_scaled)\n",
        "\n",
        "if new_prediction[0] == 1:\n",
        "    print(\"\\nThe model predicts that the patient has diabetes.\")\n",
        "else:\n",
        "    print(\"\\nThe model predicts that the patient does not have diabetes.\")\n"
      ],
      "metadata": {
        "colab": {
          "base_uri": "https://localhost:8080/",
          "height": 900
        },
        "id": "7sPvkb6KYiN-",
        "outputId": "5748d3af-d434-444b-be9f-46344dd654aa"
      },
      "execution_count": 3,
      "outputs": [
        {
          "output_type": "stream",
          "name": "stdout",
          "text": [
            "\n",
            "Model Evaluation:\n",
            "Accuracy: 0.7532467532467533\n",
            "\n",
            "Classification Report:\n",
            "              precision    recall  f1-score   support\n",
            "\n",
            "           0       0.81      0.80      0.81        99\n",
            "           1       0.65      0.67      0.66        55\n",
            "\n",
            "    accuracy                           0.75       154\n",
            "   macro avg       0.73      0.74      0.73       154\n",
            "weighted avg       0.76      0.75      0.75       154\n",
            "\n"
          ]
        },
        {
          "output_type": "display_data",
          "data": {
            "text/plain": [
              "<Figure size 640x480 with 2 Axes>"
            ],
            "image/png": "[encoded data removed]"
          },
          "metadata": {}
        },
        {
          "output_type": "stream",
          "name": "stdout",
          "text": [
            "\n",
            "Please enter the patient's data for prediction:\n",
            "Enter number of Pregnancies: 5\n",
            "Enter Glucose level: 180\n",
            "Enter Blood Pressure: 80\n",
            "Enter Skin Thickness: 35\n",
            "Enter Insulin level: 150\n",
            "Enter BMI: 35.0\n",
            "Enter Diabetes Pedigree Function: 1.2\n",
            "Enter Age: 50\n",
            "\n",
            "The model predicts that the patient has diabetes.\n"
          ]
        }
      ]
    }
  ]
}